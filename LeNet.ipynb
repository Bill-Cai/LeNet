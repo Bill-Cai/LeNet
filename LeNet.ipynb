{
 "cells": [
  {
   "cell_type": "markdown",
   "source": [
    "# LeNet\n",
    "\n",
    "构建 LeNet 网络，实现手写数字识别。\n",
    "\n",
    "参考：[activatedgeek/LeNet-5: PyTorch implementation of LeNet-5 with live visualization (github.com)](https://github.com/activatedgeek/LeNet-5/tree/master)"
   ],
   "metadata": {
    "collapsed": false
   }
  },
  {
   "cell_type": "markdown",
   "source": [
    "## MNIST"
   ],
   "metadata": {
    "collapsed": false
   }
  },
  {
   "cell_type": "code",
   "execution_count": 47,
   "outputs": [],
   "source": [
    "from torchvision.datasets import MNIST\n",
    "import matplotlib.pyplot as plt\n",
    "from torchvision.transforms import transforms\n",
    "import torch"
   ],
   "metadata": {
    "collapsed": false,
    "ExecuteTime": {
     "end_time": "2024-04-23T08:34:53.660988Z",
     "start_time": "2024-04-23T08:34:53.656983200Z"
    }
   }
  },
  {
   "cell_type": "code",
   "execution_count": 2,
   "metadata": {
    "collapsed": true,
    "ExecuteTime": {
     "end_time": "2024-04-23T08:18:19.189673600Z",
     "start_time": "2024-04-23T08:18:19.136860600Z"
    }
   },
   "outputs": [
    {
     "name": "stdout",
     "output_type": "stream",
     "text": [
      "60000 10000\n"
     ]
    }
   ],
   "source": [
    "trans = transforms.Compose([\n",
    "    transforms.Resize((32, 32)),\n",
    "    transforms.ToTensor()\n",
    "])\n",
    "train_dataset = MNIST(root='D:/temp/pytorch_cached_data', train=True, download=True, transform=trans)\n",
    "test_dataset = MNIST(root='D:/temp/pytorch_cached_data', train=False, download=True, transform=trans)\n",
    "print(len(train_dataset), len(test_dataset))"
   ]
  },
  {
   "cell_type": "code",
   "execution_count": 3,
   "outputs": [
    {
     "data": {
      "text/plain": "(tensor([[[0., 0., 0.,  ..., 0., 0., 0.],\n          [0., 0., 0.,  ..., 0., 0., 0.],\n          [0., 0., 0.,  ..., 0., 0., 0.],\n          ...,\n          [0., 0., 0.,  ..., 0., 0., 0.],\n          [0., 0., 0.,  ..., 0., 0., 0.],\n          [0., 0., 0.,  ..., 0., 0., 0.]]]),\n 5)"
     },
     "execution_count": 3,
     "metadata": {},
     "output_type": "execute_result"
    }
   ],
   "source": [
    "# 查看数据集中的第一个元素\n",
    "train_dataset[0]"
   ],
   "metadata": {
    "collapsed": false,
    "ExecuteTime": {
     "end_time": "2024-04-23T08:18:19.389806200Z",
     "start_time": "2024-04-23T08:18:19.375430700Z"
    }
   }
  },
  {
   "cell_type": "code",
   "execution_count": 4,
   "outputs": [
    {
     "data": {
      "text/plain": "(tensor(0.), tensor(0.9922))"
     },
     "execution_count": 4,
     "metadata": {},
     "output_type": "execute_result"
    }
   ],
   "source": [
    "# 查看数据集中的第一个元素的张量的最值\n",
    "train_dataset[0][0].min(), train_dataset[0][0].max()"
   ],
   "metadata": {
    "collapsed": false,
    "ExecuteTime": {
     "end_time": "2024-04-23T08:18:19.695077200Z",
     "start_time": "2024-04-23T08:18:19.684549600Z"
    }
   }
  },
  {
   "cell_type": "code",
   "execution_count": 42,
   "outputs": [],
   "source": [
    "def plot_image(img):\n",
    "    fig, ax = plt.subplots(1, 1, figsize=(2, 2))\n",
    "    ax.imshow(img.permute(1, 2, 0), cmap='gray')\n",
    "    plt.show()"
   ],
   "metadata": {
    "collapsed": false,
    "ExecuteTime": {
     "end_time": "2024-04-23T08:32:27.840386700Z",
     "start_time": "2024-04-23T08:32:27.836381800Z"
    }
   }
  },
  {
   "cell_type": "code",
   "execution_count": 43,
   "outputs": [
    {
     "data": {
      "text/plain": "<Figure size 200x200 with 1 Axes>",
      "image/png": "[encoded data removed]"
     },
     "metadata": {},
     "output_type": "display_data"
    }
   ],
   "source": [
    "plot_image(train_dataset[0][0])"
   ],
   "metadata": {
    "collapsed": false,
    "ExecuteTime": {
     "end_time": "2024-04-23T08:32:33.488352100Z",
     "start_time": "2024-04-23T08:32:33.445155Z"
    }
   }
  },
  {
   "cell_type": "markdown",
   "source": [
    "## LeNet-5"
   ],
   "metadata": {
    "collapsed": false
   }
  },
  {
   "cell_type": "code",
   "execution_count": 6,
   "outputs": [],
   "source": [
    "from torch import nn\n",
    "from torch.utils.data import DataLoader\n",
    "from torch import optim"
   ],
   "metadata": {
    "collapsed": false,
    "ExecuteTime": {
     "end_time": "2024-04-23T08:18:20.988094200Z",
     "start_time": "2024-04-23T08:18:20.982986200Z"
    }
   }
  },
  {
   "cell_type": "code",
   "execution_count": 7,
   "outputs": [],
   "source": [
    "class LeNet(nn.Module):\n",
    "    \"\"\"\n",
    "    LeNet-5\n",
    "    Input: 1x32x32\n",
    "    \"\"\"\n",
    "\n",
    "    def __init__(self):\n",
    "        super(LeNet, self).__init__()\n",
    "        self.c1 = nn.Sequential(\n",
    "            nn.Conv2d(in_channels=1, out_channels=6, kernel_size=5),\n",
    "            nn.ReLU(),\n",
    "            nn.MaxPool2d(kernel_size=2, stride=2)\n",
    "        )\n",
    "        self.c2_1 = nn.Sequential(\n",
    "            nn.Conv2d(in_channels=6, out_channels=16, kernel_size=5),\n",
    "            nn.ReLU(),\n",
    "            nn.MaxPool2d(kernel_size=2, stride=2)\n",
    "        )\n",
    "        self.c2_2 = nn.Sequential(\n",
    "            nn.Conv2d(in_channels=6, out_channels=16, kernel_size=5),\n",
    "            nn.ReLU(),\n",
    "            nn.MaxPool2d(kernel_size=2, stride=2)\n",
    "        )\n",
    "        self.c3 = nn.Sequential(\n",
    "            nn.Conv2d(in_channels=16, out_channels=120, kernel_size=5),\n",
    "            nn.ReLU()\n",
    "        )\n",
    "        self.f4 = nn.Sequential(\n",
    "            nn.Linear(in_features=120, out_features=84),\n",
    "            nn.ReLU()\n",
    "        )\n",
    "        self.f5 = nn.Sequential(\n",
    "            nn.Linear(in_features=84, out_features=10),\n",
    "            nn.LogSoftmax(dim=-1)\n",
    "        )\n",
    "\n",
    "    def forward(self, img):\n",
    "        output = self.c1(img)\n",
    "        x = self.c2_1(output)\n",
    "        output = self.c2_2(output)\n",
    "        output += x\n",
    "        output = self.c3(output)\n",
    "        output = output.view(img.size(0), -1)\n",
    "        output = self.f4(output)\n",
    "        output = self.f5(output)\n",
    "        return output"
   ],
   "metadata": {
    "collapsed": false,
    "ExecuteTime": {
     "end_time": "2024-04-23T08:18:21.359215600Z",
     "start_time": "2024-04-23T08:18:21.348438600Z"
    }
   }
  },
  {
   "cell_type": "code",
   "execution_count": 8,
   "outputs": [],
   "source": [
    "lenet = LeNet()"
   ],
   "metadata": {
    "collapsed": false,
    "ExecuteTime": {
     "end_time": "2024-04-23T08:18:21.975157100Z",
     "start_time": "2024-04-23T08:18:21.972172800Z"
    }
   }
  },
  {
   "cell_type": "markdown",
   "source": [
    "## 训练"
   ],
   "metadata": {
    "collapsed": false
   }
  },
  {
   "cell_type": "code",
   "execution_count": 9,
   "outputs": [],
   "source": [
    "criterion = nn.CrossEntropyLoss()\n",
    "optimizer = optim.Adam(lenet.parameters(), lr=2e-3)"
   ],
   "metadata": {
    "collapsed": false,
    "ExecuteTime": {
     "end_time": "2024-04-23T08:18:22.557420900Z",
     "start_time": "2024-04-23T08:18:22.556913600Z"
    }
   }
  },
  {
   "cell_type": "code",
   "execution_count": 10,
   "outputs": [],
   "source": [
    "train_dataloader = DataLoader(train_dataset, batch_size=8, shuffle=True)\n",
    "test_dataloader = DataLoader(test_dataset, batch_size=8, shuffle=False)"
   ],
   "metadata": {
    "collapsed": false,
    "ExecuteTime": {
     "end_time": "2024-04-23T08:18:23.032910700Z",
     "start_time": "2024-04-23T08:18:23.032401500Z"
    }
   }
  },
  {
   "cell_type": "code",
   "execution_count": 37,
   "outputs": [],
   "source": [
    "def train(epoch: int):\n",
    "    lenet.train()\n",
    "    loss_list, batch_list = [], []\n",
    "    for i, (images, labels) in enumerate(train_dataloader):\n",
    "        optimizer.zero_grad()\n",
    "        output = lenet(images)\n",
    "        loss = criterion(output, labels)\n",
    "        if i % 500 == 0:\n",
    "            print(f'Epoch: {epoch}, Batch: {i}, Loss: {loss.detach().item()}')\n",
    "        loss_list.append(loss.detach().item())\n",
    "        batch_list.append(i)\n",
    "        loss.backward()\n",
    "        optimizer.step()\n",
    "\n",
    "\n",
    "def test():\n",
    "    lenet.eval()\n",
    "    total_correct = 0\n",
    "    avg_loss = 0.0\n",
    "    for i, (images, labels) in enumerate(test_dataloader):\n",
    "        output = lenet(images)\n",
    "        avg_loss += criterion(output, labels).sum()\n",
    "        pred = output.detach().max(1)[1]\n",
    "        total_correct += pred.eq(labels.view_as(pred)).sum()\n",
    "    avg_loss /= len(test_dataset)\n",
    "    print(f'Accuracy: {total_correct}/{len(test_dataset)} ({total_correct * 100 / len(test_dataset):.0f}%)')"
   ],
   "metadata": {
    "collapsed": false,
    "ExecuteTime": {
     "end_time": "2024-04-23T08:27:46.800815500Z",
     "start_time": "2024-04-23T08:27:46.795086600Z"
    }
   }
  },
  {
   "cell_type": "code",
   "execution_count": 38,
   "outputs": [
    {
     "name": "stdout",
     "output_type": "stream",
     "text": [
      "Epoch: 0, Batch: 0, Loss: 0.0015861410647630692\n",
      "Epoch: 0, Batch: 500, Loss: 0.004858912900090218\n",
      "Epoch: 0, Batch: 1000, Loss: 0.007136953063309193\n",
      "Epoch: 0, Batch: 1500, Loss: 0.0005152271478436887\n",
      "Epoch: 0, Batch: 2000, Loss: 8.928524039220065e-05\n",
      "Epoch: 0, Batch: 2500, Loss: 0.014991628006100655\n",
      "Epoch: 0, Batch: 3000, Loss: 2.4586674953752663e-06\n",
      "Epoch: 0, Batch: 3500, Loss: 2.2351721895574883e-07\n",
      "Epoch: 0, Batch: 4000, Loss: 0.0019634640775620937\n",
      "Epoch: 0, Batch: 4500, Loss: 0.025726469233632088\n",
      "Epoch: 0, Batch: 5000, Loss: 0.0729566365480423\n",
      "Epoch: 0, Batch: 5500, Loss: 0.00020734222198370844\n",
      "Epoch: 0, Batch: 6000, Loss: 0.0033385520800948143\n",
      "Epoch: 0, Batch: 6500, Loss: 0.000206784374313429\n",
      "Epoch: 0, Batch: 7000, Loss: 0.000996135757304728\n",
      "Accuracy: 9817/10000 (98%)\n",
      "Epoch: 1, Batch: 0, Loss: 0.009638662450015545\n",
      "Epoch: 1, Batch: 500, Loss: 0.011386757716536522\n",
      "Epoch: 1, Batch: 1000, Loss: 4.6193514435799443e-07\n",
      "Epoch: 1, Batch: 1500, Loss: 7.003377959335921e-06\n",
      "Epoch: 1, Batch: 2000, Loss: 0.060953881591558456\n",
      "Epoch: 1, Batch: 2500, Loss: 0.00962377805262804\n",
      "Epoch: 1, Batch: 3000, Loss: 2.7997844881610945e-05\n",
      "Epoch: 1, Batch: 3500, Loss: 7.960107177495956e-05\n",
      "Epoch: 1, Batch: 4000, Loss: 1.950483419932425e-05\n",
      "Epoch: 1, Batch: 4500, Loss: 0.000243967748247087\n",
      "Epoch: 1, Batch: 5000, Loss: 0.0049564470537006855\n",
      "Epoch: 1, Batch: 5500, Loss: 0.00718333013355732\n",
      "Epoch: 1, Batch: 6000, Loss: 7.955845649121329e-05\n",
      "Epoch: 1, Batch: 6500, Loss: 5.066386847829563e-07\n",
      "Epoch: 1, Batch: 7000, Loss: 0.09334541857242584\n",
      "Accuracy: 9802/10000 (98%)\n",
      "Epoch: 2, Batch: 0, Loss: 0.00010264900629408658\n",
      "Epoch: 2, Batch: 500, Loss: 0.0023845976684242487\n",
      "Epoch: 2, Batch: 1000, Loss: 0.0\n",
      "Epoch: 2, Batch: 1500, Loss: 4.67888048660825e-06\n",
      "Epoch: 2, Batch: 2000, Loss: 0.6961830854415894\n",
      "Epoch: 2, Batch: 2500, Loss: 0.0001271030050702393\n",
      "Epoch: 2, Batch: 3000, Loss: 0.0013941129436716437\n",
      "Epoch: 2, Batch: 3500, Loss: 3.6830242606811225e-05\n",
      "Epoch: 2, Batch: 4000, Loss: 2.9802318834981634e-08\n",
      "Epoch: 2, Batch: 4500, Loss: 0.00034561677603051066\n",
      "Epoch: 2, Batch: 5000, Loss: 4.76155910291709e-05\n",
      "Epoch: 2, Batch: 5500, Loss: 0.7694495916366577\n",
      "Epoch: 2, Batch: 6000, Loss: 0.00010198671952821314\n",
      "Epoch: 2, Batch: 6500, Loss: 9.089691275221412e-07\n",
      "Epoch: 2, Batch: 7000, Loss: 0.0014098954852670431\n",
      "Accuracy: 9842/10000 (98%)\n",
      "Epoch: 3, Batch: 0, Loss: 0.0018565282225608826\n",
      "Epoch: 3, Batch: 500, Loss: 2.8294116418692283e-05\n",
      "Epoch: 3, Batch: 1000, Loss: 0.000123186779092066\n",
      "Epoch: 3, Batch: 1500, Loss: 2.199242044298444e-05\n",
      "Epoch: 3, Batch: 2000, Loss: 0.07501692324876785\n",
      "Epoch: 3, Batch: 2500, Loss: 0.3730156123638153\n",
      "Epoch: 3, Batch: 3000, Loss: 1.4603052704842412e-06\n",
      "Epoch: 3, Batch: 3500, Loss: 0.00012666863040067255\n",
      "Epoch: 3, Batch: 4000, Loss: 1.1390875577926636\n",
      "Epoch: 3, Batch: 4500, Loss: 0.008138184435665607\n",
      "Epoch: 3, Batch: 5000, Loss: 0.013846272602677345\n",
      "Epoch: 3, Batch: 5500, Loss: 0.021430490538477898\n",
      "Epoch: 3, Batch: 6000, Loss: 0.0006572730490006506\n",
      "Epoch: 3, Batch: 6500, Loss: 0.0\n",
      "Epoch: 3, Batch: 7000, Loss: 1.6391270207805064e-07\n",
      "Accuracy: 9874/10000 (99%)\n",
      "Epoch: 4, Batch: 0, Loss: 5.67907773074694e-05\n",
      "Epoch: 4, Batch: 500, Loss: 0.0003893987159244716\n",
      "Epoch: 4, Batch: 1000, Loss: 0.0021680081263184547\n",
      "Epoch: 4, Batch: 1500, Loss: 0.0\n",
      "Epoch: 4, Batch: 2000, Loss: 0.002745475387200713\n",
      "Epoch: 4, Batch: 2500, Loss: 0.0017411296721547842\n",
      "Epoch: 4, Batch: 3000, Loss: 0.42052391171455383\n",
      "Epoch: 4, Batch: 3500, Loss: 1.356000211671926e-06\n",
      "Epoch: 4, Batch: 4000, Loss: 2.0861610039446532e-07\n",
      "Epoch: 4, Batch: 4500, Loss: 0.0\n",
      "Epoch: 4, Batch: 5000, Loss: 0.37355726957321167\n",
      "Epoch: 4, Batch: 5500, Loss: 1.4901160305669237e-08\n",
      "Epoch: 4, Batch: 6000, Loss: 0.0001750405499478802\n",
      "Epoch: 4, Batch: 6500, Loss: 0.0\n",
      "Epoch: 4, Batch: 7000, Loss: 0.00017252573161385953\n",
      "Accuracy: 9876/10000 (99%)\n"
     ]
    }
   ],
   "source": [
    "for epoch in range(5):\n",
    "    train(epoch)\n",
    "    test()"
   ],
   "metadata": {
    "collapsed": false,
    "ExecuteTime": {
     "end_time": "2024-04-23T08:30:37.142238Z",
     "start_time": "2024-04-23T08:27:47.302235500Z"
    }
   }
  },
  {
   "cell_type": "code",
   "execution_count": 48,
   "outputs": [],
   "source": [
    "# save model\n",
    "torch.save(lenet.state_dict(), 'lenet.pth')"
   ],
   "metadata": {
    "collapsed": false,
    "ExecuteTime": {
     "end_time": "2024-04-23T08:34:57.852106600Z",
     "start_time": "2024-04-23T08:34:57.847278200Z"
    }
   }
  },
  {
   "cell_type": "markdown",
   "source": [
    "## 推理"
   ],
   "metadata": {
    "collapsed": false
   }
  },
  {
   "cell_type": "code",
   "execution_count": 44,
   "outputs": [
    {
     "data": {
      "text/plain": "<Figure size 200x200 with 1 Axes>",
      "image/png": "[encoded data removed]"
     },
     "metadata": {},
     "output_type": "display_data"
    }
   ],
   "source": [
    "plot_image(test_dataset[100][0])"
   ],
   "metadata": {
    "collapsed": false,
    "ExecuteTime": {
     "end_time": "2024-04-23T08:32:51.532812800Z",
     "start_time": "2024-04-23T08:32:51.489290Z"
    }
   }
  },
  {
   "cell_type": "code",
   "execution_count": 46,
   "outputs": [
    {
     "data": {
      "text/plain": "tensor(6)"
     },
     "execution_count": 46,
     "metadata": {},
     "output_type": "execute_result"
    }
   ],
   "source": [
    "lenet(test_dataset[100][0].unsqueeze(0)).argmax()"
   ],
   "metadata": {
    "collapsed": false,
    "ExecuteTime": {
     "end_time": "2024-04-23T08:33:44.828223500Z",
     "start_time": "2024-04-23T08:33:44.819554200Z"
    }
   }
  },
  {
   "cell_type": "code",
   "execution_count": null,
   "outputs": [],
   "source": [],
   "metadata": {
    "collapsed": false
   }
  }
 ],
 "metadata": {
  "kernelspec": {
   "display_name": "Python 3",
   "language": "python",
   "name": "python3"
  },
  "language_info": {
   "codemirror_mode": {
    "name": "ipython",
    "version": 2
   },
   "file_extension": ".py",
   "mimetype": "text/x-python",
   "name": "python",
   "nbconvert_exporter": "python",
   "pygments_lexer": "ipython2",
   "version": "2.7.6"
  }
 },
 "nbformat": 4,
 "nbformat_minor": 0
}
